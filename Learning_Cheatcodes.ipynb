{
  "nbformat": 4,
  "nbformat_minor": 0,
  "metadata": {
    "colab": {
      "provenance": [],
      "authorship_tag": "ABX9TyM+l+wAAI5+vgukBnRjSIHu",
      "include_colab_link": true
    },
    "kernelspec": {
      "name": "python3",
      "display_name": "Python 3"
    },
    "language_info": {
      "name": "python"
    }
  },
  "cells": [
    {
      "cell_type": "markdown",
      "metadata": {
        "id": "view-in-github",
        "colab_type": "text"
      },
      "source": [
        "<a href=\"https://colab.research.google.com/github/whoami-sk/miscellaenous/blob/main/Learning_Cheatcodes.ipynb\" target=\"_parent\"><img src=\"https://colab.research.google.com/assets/colab-badge.svg\" alt=\"Open In Colab\"/></a>"
      ]
    },
    {
      "cell_type": "markdown",
      "source": [
        "**============================LOW LEVEL DESIGN================================<br>**\n",
        "**refrences:** </br>\n",
        "https://www.coursera.org/learn/design-patterns </br>\n",
        "https://www.coursera.org/learn/object-oriented-design </br>\n"
      ],
      "metadata": {
        "id": "6k_wgKzOuEig"
      }
    },
    {
      "cell_type": "markdown",
      "source": [
        "**Software Design & Architecture**\n",
        "\n",
        "-  if the code is scalable(without ripple effect), reusable and clean; it can be considered as Good software design.\n",
        "-  Some common qualities to take into account in software design\n",
        "include: performance, maintainability, security, and backwards\n",
        "compatibility.\n"
      ],
      "metadata": {
        "id": "MRx6gX9zo4hC"
      }
    },
    {
      "cell_type": "markdown",
      "source": [
        "**Component --> Conceptual Design --> Technical Design**<br>\n",
        "<br>A user story is simply a requirement, often from the perspective of an end-user, which is stated in natural language. You may have seen Sam using one of these in the previous video. A user story looks like this:<br>\n",
        "<B>As a ______, I want to ______ so that ______.</B><br>\n",
        "After apply object-oriented thinking to it to discover objects and possibly further requirements!<br>\n",
        "<B>EX:</B>As an online shopper, I want to add an item to my shopping cart, so that I can purchase it.<br>\n",
        "-nouns correspond to objects in your software.<br>\n",
        "-verbs can help in identifying the requirements that objects might have.<br>\n",
        "-verbs may also help you identify connections between objects.<br>\n",
        "-a user story can also help discover connections between objects.<br>\n",
        "<b>Breaking down objects, or splitting them into smaller objects it may be seen that there are different kinds of objects.<br></b>\n",
        "\n",
        "<b>Three categories of objects:</b><br>\n",
        "--Entity Objects(real-world entity)<br>\n",
        "--Boundary Objects(object that deals with another system - a user, another software system, the Internet)<br>\n",
        "--Control Objects(responsible for coordination like a Mediator Design Pattern: it simply coordinates the activities of many different objects so that they can stay loosely coupled.)<br>\n",
        "<br>Identifying objects to include in software and breaking down those objects into smaller objects, initially would be entity objects. The other categories of objects will come later, to think about the technical design of the software.<br>\n",
        "\n",
        "Organizing software into entity objects, boundary objects, and control objects will allow your code to be more flexible, reusable, and maintainable."
      ],
      "metadata": {
        "id": "qrTKcdegRRbp"
      }
    },
    {
      "cell_type": "markdown",
      "source": [
        "**Competing Qualties and Trade-off**<br>\n",
        "-- Functional and Non-Functional Requirement.<br>\n",
        "-- Reusability, Flexibility and Maintainability.<br>\n",
        "\n",
        "\n",
        "**Class Responsibility Collabrator (CRC) Cards**<br>"
      ],
      "metadata": {
        "id": "kmBqX7_M1_2-"
      }
    },
    {
      "cell_type": "markdown",
      "source": [
        "<u>**OBJECT ORIENTED DESIGN IN OOPS**</u><br>\n",
        "**Four Design Principle**<br>\n",
        "--<b>Abstraction(Rule of least Astonishment)</b>:---{Consist of data members(attributes) & methods(behaviours)}<br>\n",
        "--<b>Encapsulation</b>:---{the bundling of data with the methods that operate on that data, or the restricting of direct access to some of an object's components using private, protected accessifiers.}<br>\n",
        "--<b>Decompostion</b>:---{Decomposition is taking a whole thing and dividing it up into different parts.Or, on the flip side taking a bunch of separate parts with different functionalities, and combining them together to form a whole.\n",
        "Example can be a car & possible parts of car transmission, a motor, wheels, tires, doors, windows, seats, and fuel.\n",
        "A general rule for decomposition is to look at the different responsibilities of some whole thing, and evaluate how you can separate them into different parts, each with its own specific responsibility.}<br>\n",
        "A whole might have a **fixed or dynamic number** of a certain type of part. If there is a fixed number, then over the **lifetime** of the whole object it will have exactly that much of the part object. For example, a refrigerator has a fixed number of freezers, just one. This does not change over time, but there are sometimes parts with a dynamic number. Meaning, the whole object may gain new instances of those part objects over its lifetime. For example, a refrigerator can have a dynamic number of shelves or food items over time.The another thing is if the part is **shared** or not.Consider a person who has a daughter in one family, but also a spouse in another family. The two families are regarded as separate wholes, but they simultaneously share the same part. However, sometimes sharing is not possible or intended. For example, a food item in a refrigerator cannot at the same time also be inside an oven.  <br>\n",
        "--<b>Generalization</b>:---{Generalization can be achieved by classes through inheritance. In generalization we take repeated, common, or shared characteristics between two or more classes and factor them out into another class. Specifically, you can have two classes, a parent class and a child class. When a child class inherits from a parent class, the child class will have the attributes and behaviors of the parent class. You place common attribute and behaviors in your parent class. There can be multiple child classes that inherit from a parent class, and they all will receive these common attributes and behaviors. The child classes can also have additional attributes and behaviors, which allow them to be more specialized in what they can do. In standard terminology, a parent class is known as a superclass and a child class is called the subclass.\n",
        "Play}<br>\n",
        "\n",
        "**Unified Modelling Language Class Diagram**<br>\n",
        "CRC cards are used in prototyping and simulating various designs, but UML Class Diagrams are more suited for communicating the technical design of the software's implementation.<br>\n",
        "\n",
        "**=>Abstraction**<br>\n",
        "**=>Encapsulation**<br>\n",
        "-, + includes the private, public accessifiers. Private data members are manipulated using getters and setter.<br>\n",
        "**Decomposition:**<br>\n",
        "Three types of relaitonship in Decomposition:</br>\n",
        "**--Association** {Association is some relationship. This means that there is a loose relationship between two objects. These objects may interact with each other for some time. A person does not generally own an airline, but can interact with one. An airline can also interact with many person objects.}<br>\n",
        "**--Aggregation**{Ex-A bookshelf can hold a lot of books but can also have none and it's still a bookshelf!}<br>\n",
        "**--Composition**{Ex-Consider the relationship between a House and its Rooms. A House is composed of Rooms, and if the House ceases to exist, its Rooms will not exist either. This is a strong ownership relationship, as the Rooms cannot exist without the House.}"
      ],
      "metadata": {
        "id": "enGQcMMyYCP-"
      }
    },
    {
      "cell_type": "markdown",
      "source": [
        "**==============================frontend desgin==============================<br>**\n",
        "https://cssgridgarden.com/</br>\n",
        "https://www.w3schools.com/</br>\n",
        "https://flukeout.github.io/#</br>\n",
        "https://css-tricks.com/</br>\n",
        "https://fullstackopen.com/en/#course-contents</br>\n",
        "https://www.theodinproject.com/lessons/foundations-how-does-the-web-work</br>"
      ],
      "metadata": {
        "id": "mIZsnUf8wXgl"
      }
    },
    {
      "cell_type": "markdown",
      "source": [
        "**====================GEN AI===================</br>**\n"
      ],
      "metadata": {
        "id": "yfIYe0IVZ1Wl"
      }
    },
    {
      "cell_type": "markdown",
      "source": [
        "**Transformers:**Neural network that learns context of sequential data and generates new data out of it.</br>\n",
        "**RNN :** With LSTM & GRU.\n"
      ],
      "metadata": {
        "id": "3flHRlzKmL7A"
      }
    },
    {
      "cell_type": "markdown",
      "source": [
        "The concepts you're referring to — such as shallow vs. deep copy, object spreading, and cloning — fall under a broader category of **miscellaneous programming concepts** that deal with the **manipulation of data structures** and **memory management**. These are fundamental programming concepts that appear frequently in various languages, even though their names and implementations may differ.\n",
        "\n",
        "Here's a list of such **miscellaneous concepts** related to object manipulation, memory management, and data structure management that often come up across different programming languages:\n",
        "\n",
        "### 1. **Copying Techniques**\n",
        "   - **Shallow Copy**: Copying only references to nested objects/arrays.\n",
        "   - **Deep Copy**: Copying the entire object, including nested objects/arrays.\n",
        "   - **Clone**: The act of creating a duplicate of an object or array. (The clone can be shallow or deep depending on the method used.)\n",
        "   - **Reference Copy**: Assigning one variable to another, so both refer to the same object in memory (not really a \"copy,\" but a reference to the same memory location).\n",
        "\n",
        "### 2. **Equality Checking**\n",
        "   - **Shallow Equality**: Checking if two objects or arrays are the same by reference or using a shallow comparison of properties (ignoring nested structures).\n",
        "   - **Deep Equality**: Checking if two objects or arrays are structurally identical, comparing all nested values, not just references.\n",
        "\n",
        "### 3. **Memory Management Concepts**\n",
        "   - **Pass-by-Value**: A method of passing arguments to functions where a copy of the variable's value is made.\n",
        "   - **Pass-by-Reference**: A method of passing arguments to functions where a reference to the original variable is passed, and changes made affect the original.\n",
        "   - **Memory Leaks**: Unused memory that is not freed, leading to gradual performance degradation.\n",
        "   - **Garbage Collection**: The automatic memory management system that reclaims memory that is no longer in use (e.g., JavaScript, Java, Python).\n",
        "\n",
        "### 4. **Mutability and Immutability**\n",
        "   - **Mutable Objects**: Objects whose internal state can be changed after they are created (e.g., arrays, objects).\n",
        "   - **Immutable Objects**: Objects whose state cannot be modified after creation (e.g., strings, numbers, tuples in Python).\n",
        "\n",
        "### 5. **Data Structures Manipulation**\n",
        "   - **In-place Modification**: Changing the content of a data structure directly without creating a new copy (common in mutable objects).\n",
        "   - **Out-of-place Modification**: Creating a new copy of the data structure while applying modifications, leaving the original intact.\n",
        "\n",
        "### 6. **Object and Array Destructuring**\n",
        "   - **Destructuring Assignment**: Extracting values from arrays or objects into individual variables.\n",
        "     - Example in JavaScript/TypeScript: `const { x, y } = point;`\n",
        "   - **Rest/Spread Syntax**: Copying parts of objects or arrays, or gathering the remaining elements into a new collection.\n",
        "     - Example in JavaScript/TypeScript: `const newState = { ...oldState, count: 1 };`\n",
        "\n",
        "### 7. **Functional Programming Techniques**\n",
        "   - **Pure Functions**: Functions that produce the same output for the same input and do not have side effects.\n",
        "   - **Immutability**: In functional programming, data structures are often immutable, meaning that any operation that changes a data structure returns a new data structure without modifying the original one.\n",
        "   - **Referential Transparency**: The idea that an expression can be replaced with its value without changing the program's behavior.\n",
        "\n",
        "### 8. **Event Handling and Asynchronous Programming**\n",
        "   - **Callback Functions**: Functions that are passed as arguments to other functions and executed later.\n",
        "   - **Promises**: Objects that represent the eventual completion or failure of an asynchronous operation.\n",
        "   - **Observables**: Data streams that emit values over time, often used in frameworks like RxJS.\n",
        "\n",
        "### 9. **Concurrency and Parallelism**\n",
        "   - **Threading**: A concept that allows multiple threads of execution to run concurrently.\n",
        "   - **Asynchronous Programming**: Writing code that performs tasks asynchronously to avoid blocking the execution thread (e.g., async/await, promises).\n",
        "   - **Locks and Semaphores**: Mechanisms to control access to shared resources in multi-threaded environments.\n",
        "\n",
        "### 10. **Error Handling**\n",
        "   - **Try/Catch**: A construct for handling exceptions and errors in many languages.\n",
        "   - **Error Propagation**: Passing errors from one part of the system to another, often through function return values or through the use of error objects.\n",
        "   - **Graceful Degradation**: Writing code to handle errors in such a way that the system continues to function with reduced capabilities rather than completely failing.\n",
        "\n",
        "### 11. **Design Patterns**\n",
        "   - **Singleton**: Ensuring a class has only one instance and providing a global point of access to it.\n",
        "   - **Factory**: A method for creating objects without exposing the instantiation logic to the client.\n",
        "   - **Observer**: A pattern in which an object (subject) maintains a list of its dependents (observers) and notifies them automatically of state changes.\n",
        "\n",
        "### 12. **Serialization and Deserialization**\n",
        "   - **Serialization**: The process of converting an object into a format (e.g., JSON, XML) that can be easily stored or transmitted.\n",
        "   - **Deserialization**: The process of converting serialized data back into an object.\n",
        "\n",
        "### 13. **Metaprogramming**\n",
        "   - **Reflection**: The ability of a program to inspect and modify its own structure and behavior at runtime (common in Java, Python, etc.).\n",
        "   - **Dynamic Typing/Typing**: Languages that allow variables to change types at runtime (e.g., Python, JavaScript) vs. statically typed languages (e.g., C++, Java).\n",
        "\n",
        "### 14. **State Management**\n",
        "   - **Immutable State**: Managing state in a way where the state is never mutated, often used in Redux, MobX, and other state management solutions.\n",
        "   - **Event Sourcing**: Storing state changes as a sequence of events rather than just storing the current state.\n",
        "   - **Command Query Responsibility Segregation (CQRS)**: A pattern where the read and write operations are separated to optimize for both.\n",
        "\n",
        "### 15. **Optimization Techniques**\n",
        "   - **Memoization**: Storing the results of expensive function calls and reusing them when the same inputs occur again.\n",
        "   - **Lazy Loading**: Delaying the loading of resources or components until they are actually needed.\n",
        "   - **Caching**: Storing frequently accessed data in a fast-access storage to improve performance.\n",
        "\n",
        "### 16. **Type Systems and Type Manipulation**\n",
        "   - **Type Inference**: The ability of the compiler to automatically deduce the type of a variable based on its value.\n",
        "   - **Generics/Parametric Types**: Types that can operate on any data type without knowing it in advance.\n",
        "   - **Type Guards**: Functions that help narrow down the type of a value (commonly used in TypeScript).\n",
        "\n",
        "---\n",
        "\n",
        "### Conclusion:\n",
        "The concepts above span various programming paradigms, such as **imperative**, **functional**, and **object-oriented programming**, and they are common in many programming languages. While the **names and syntax** might differ across languages, the underlying ideas of handling data structures, memory, and computation effectively are universal. These concepts can often be categorized as **data manipulation**, **memory management**, **asynchronous programming**, and **design patterns**, among others."
      ],
      "metadata": {
        "id": "ioX_bTlv7E4a"
      }
    }
  ]
}